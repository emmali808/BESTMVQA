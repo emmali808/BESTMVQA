{
 "cells": [
  {
   "cell_type": "code",
   "execution_count": 3,
   "metadata": {},
   "outputs": [
    {
     "name": "stderr",
     "output_type": "stream",
     "text": [
      "100%|██████████| 642/642 [00:15<00:00, 41.87it/s] \n"
     ]
    }
   ],
   "source": [
    "from PIL import Image\n",
    "import pandas as pd\n",
    "import os\n",
    "import json\n",
    "import numpy as np\n",
    "import pickle\n",
    "from tqdm import tqdm\n",
    "\n",
    "\n",
    "def imageresize(img2idx_jsonpath, img_folderpath, reshape_size, out_path, channels):\n",
    "    with open(img2idx_jsonpath) as f:\n",
    "        img2idx = json.load(f)\n",
    "    \n",
    "    if channels == 3:\n",
    "        imgs = np.ndarray(shape=(len(img2idx), reshape_size, reshape_size, 3), dtype=float)\n",
    "    else:\n",
    "        imgs = np.ndarray(shape=(len(img2idx), reshape_size, reshape_size, 1), dtype=float)\n",
    "\n",
    "    for imgid, idx in tqdm(img2idx.items()):\n",
    "        if \".jpg\" in imgid:\n",
    "            imgpath = os.path.join(img_folderpath, imgid)\n",
    "        else:\n",
    "            imgpath = os.path.join(img_folderpath, f\"{imgid}.jpg\")\n",
    "        if os.path.exists(imgpath):\n",
    "            if channels == 3:\n",
    "                img = Image.open(imgpath).convert('RGB')\n",
    "            else:\n",
    "                img = Image.open(imgpath).convert('L')\n",
    "        else:\n",
    "            raise ValueError(f\"Image path is not correct: {imgpath}\")\n",
    "        resized = img.resize((reshape_size, reshape_size))\n",
    "        normalized = np.array(resized) / 255\n",
    "        if channels == 3:\n",
    "            normalized = normalized.reshape((reshape_size, reshape_size, 3))\n",
    "        else:\n",
    "            normalized = normalized.reshape((reshape_size, reshape_size, 1))\n",
    "        imgs[idx] = normalized\n",
    "\n",
    "\n",
    "    with open(out_path, 'wb') as f:\n",
    "        pickle.dump(imgs, f)\n",
    "    return\n",
    "\n",
    "# imageresize(\"/home/coder/projects/Med-VQA/data_PATH/imgid2idx.json\", \"/home/coder/projects/Med-VQA/data_PATH/images\", \n",
    "#             84, \"/home/coder/projects/Med-VQA/data_PATH/images84x84.pkl\", 1)\n",
    "# imageresize(\"/home/coder/projects/Med-VQA/data_PATH/imgid2idx.json\", \"/home/coder/projects/Med-VQA/data_PATH/images\", \n",
    "#             128, \"/home/coder/projects/Med-VQA/data_PATH/images128x128.pkl\", 1)\n",
    "\n",
    "# imageresize(\"/home/coder/projects/Med-VQA/data_PATH/imgid2idx.json\", \"/home/coder/projects/Med-VQA/data_PATH/images\", \n",
    "#             224, \"/home/coder/projects/Med-VQA/data_PATH/images224x224.pkl\", 1)\n",
    "# imageresize(\"/home/coder/projects/Med-VQA/data_PATH/imgid2idx.json\", \"/home/coder/projects/Med-VQA/data_PATH/images\", \n",
    "#             224, \"/home/coder/projects/Med-VQA/data_PATH/images224x224.pkl\", 3)\n",
    "\n",
    "imageresize(\"/home/coder/projects/Med-VQA/data_SLAKE/imgid2idx.json\", \"/home/coder/projects/Med-VQA/data_SLAKE/images\", \n",
    "            224, \"/home/coder/projects/Med-VQA/data_SLAKE/images224x224.pkl\", 3)"
   ]
  },
  {
   "cell_type": "code",
   "execution_count": null,
   "metadata": {},
   "outputs": [],
   "source": [
    "# /home/coder/projects/Med-VQA/data_PATH/cache/trainval_ans2label.pkl\n",
    "import _pickle as cPickle\n",
    "\n",
    "st = set()\n",
    "with open('/home/coder/projects/Med-VQA/data_PATH/cache/close_ans2label.pkl','rb') as f:\n",
    "    data = cPickle.load(f)\n",
    "    for dt in data:\n",
    "        # print(dt)\n",
    "        st.add(dt)\n",
    "    # print(type(data), len(data.keys()))\n",
    "\n",
    "\n",
    "with open('/home/coder/projects/Med-VQA/data_PATH/cache/open_ans2label.pkl','rb') as f:\n",
    "    data02 = cPickle.load(f)\n",
    "    for dt in data02:\n",
    "        # print(dt)\n",
    "        st.add(dt)\n",
    "    # print(type(data), len(data.keys()))\n",
    "print(len(st), st)"
   ]
  },
  {
   "cell_type": "markdown",
   "metadata": {},
   "source": []
  }
 ],
 "metadata": {
  "kernelspec": {
   "display_name": "Python 3.8.0 ('mmbert')",
   "language": "python",
   "name": "python3"
  },
  "language_info": {
   "codemirror_mode": {
    "name": "ipython",
    "version": 3
   },
   "file_extension": ".py",
   "mimetype": "text/x-python",
   "name": "python",
   "nbconvert_exporter": "python",
   "pygments_lexer": "ipython3",
   "version": "3.8.0"
  },
  "orig_nbformat": 4,
  "vscode": {
   "interpreter": {
    "hash": "0d482a1bf6d7fe2ffff62ba0108219233e6d040b3eba4b0dd8406aedad7490b8"
   }
  }
 },
 "nbformat": 4,
 "nbformat_minor": 2
}
