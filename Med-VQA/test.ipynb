{
 "cells": [
  {
   "cell_type": "code",
   "execution_count": null,
   "metadata": {},
   "outputs": [
    {
     "ename": "",
     "evalue": "",
     "output_type": "error",
     "traceback": [
      "\u001b[1;31mRunning cells with 'Python 3.6.13 ('CR')' requires ipykernel package.\n",
      "Run the following command to install 'ipykernel' into the Python environment. \n",
      "Command: 'conda install -n CR ipykernel --update-deps --force-reinstall'"
     ]
    }
   ],
   "source": [
    "import torch\n",
    "import os\n",
    "with open(os.path.join('/home/coder/projects/Med-VQA/data_SLAKE' ,'embed_tfidf_weights.pkl'), 'rb') as f:\n",
    "    # print(\"####\", args.data_dir)\n",
    "    w_emb = torch.load(f)\n",
    "    print(\"asfasdf\")\n"
   ]
  },
  {
   "cell_type": "code",
   "execution_count": null,
   "metadata": {},
   "outputs": [
    {
     "ename": "",
     "evalue": "",
     "output_type": "error",
     "traceback": [
      "\u001b[1;31mRunning cells with 'Python 3.6.13 ('CR')' requires ipykernel package.\n",
      "Run the following command to install 'ipykernel' into the Python environment. \n",
      "Command: 'conda install -n CR ipykernel --update-deps --force-reinstall'"
     ]
    }
   ],
   "source": [
    "# /home/coder/projects/Med-VQA/data_PATH/cache/trainval_ans2label.pkl\n",
    "import _pickle as cPickle\n",
    "with open('/home/coder/projects/Med-VQA/data_PATH/cache/trainval_ans2label.pkl','rb') as f:\n",
    "    data = cPickle.load(f)\n",
    "    print(type(data))\n",
    "\n",
    "\n"
   ]
  },
  {
   "cell_type": "code",
   "execution_count": 3,
   "metadata": {},
   "outputs": [
    {
     "name": "stdout",
     "output_type": "stream",
     "text": [
      "######## 321\n",
      "######## 781\n"
     ]
    }
   ],
   "source": [
    "import os\n",
    "import json\n",
    "import _pickle as cPickle\n",
    "# close & open\n",
    "dataroot = '/home/coder/projects/SystemDataset/data_OVQA_as_RAD'\n",
    "label2close = cPickle.load(open(os.path.join(dataroot,'cache','close_label2ans.pkl'),'rb'))\n",
    "label2open = cPickle.load(open(os.path.join(dataroot, 'cache', 'open_label2ans.pkl'), 'rb'))\n",
    "\n",
    "print(\"########\", len(label2close))\n",
    "print(\"########\", len(label2open))"
   ]
  },
  {
   "cell_type": "code",
   "execution_count": 11,
   "metadata": {},
   "outputs": [
    {
     "name": "stdout",
     "output_type": "stream",
     "text": [
      "ATTRIBUTE OTHER\n",
      "ABNORMALITY\n",
      "MODALITY\n",
      "ORGAN SYSTEM\n",
      "PLANE\n",
      "CONDITION\n"
     ]
    }
   ],
   "source": [
    "for str in ['Attribute Other', 'Abnormality', 'Modality', 'Organ System', 'PLANE', 'Condition' ]:\n",
    "    print(str.upper())"
   ]
  }
 ],
 "metadata": {
  "kernelspec": {
   "display_name": "Python 3.8.0 ('mmbert')",
   "language": "python",
   "name": "python3"
  },
  "language_info": {
   "codemirror_mode": {
    "name": "ipython",
    "version": 3
   },
   "file_extension": ".py",
   "mimetype": "text/x-python",
   "name": "python",
   "nbconvert_exporter": "python",
   "pygments_lexer": "ipython3",
   "version": "3.8.0"
  },
  "orig_nbformat": 4,
  "vscode": {
   "interpreter": {
    "hash": "0d482a1bf6d7fe2ffff62ba0108219233e6d040b3eba4b0dd8406aedad7490b8"
   }
  }
 },
 "nbformat": 4,
 "nbformat_minor": 2
}
