{
 "cells": [
  {
   "cell_type": "code",
   "execution_count": 15,
   "metadata": {},
   "outputs": [
    {
     "name": "stdout",
     "output_type": "stream",
     "text": [
      "0    [[ct], [chest], [lung spinal cord], [lung], [n...\n",
      "1    [[ct], [chest], [lung], [lung], [no], [yes], [...\n",
      "2    [[ct], [chest], [lung], [lung], [no], [yes], [...\n",
      "3    [[x ray], [chest], [lung], [cardiomegaly], [ce...\n",
      "4    [[mri], [abdomen], [t2], [no], [yes], [yes], [...\n",
      "5    [[x ray], [chest], [yes], [lung], [pneumonia],...\n",
      "6    [[x ray], [chest], [yes], [lung], [cardiomegal...\n",
      "7    [[x ray], [chest], [yes], [lung], [cardiomegal...\n",
      "8    [[x ray], [chest], [yes], [lung], [atelectasis...\n",
      "9    [[x ray], [chest], [yes], [lung], [cardiomegal...\n",
      "Name: answers, dtype: object\n"
     ]
    }
   ],
   "source": [
    "import pyarrow as pa\n",
    "\n",
    "\n",
    "table = pa.ipc.RecordBatchFileReader(\n",
    "    pa.memory_map(f\"/home/coder/projects/METER/data/vqa_slake/vqa_test.arrow\", \"r\")\n",
    ").read_all()\n",
    "\n",
    "pdtable = table.to_pandas()\n",
    "\n",
    "print((pdtable[\"answers\"][:10]))\n",
    "\n",
    "# df1 = pdtable[:-1000]\n",
    "# df2 = pdtable[-1000:]\n",
    "\n",
    "# df1 = pa.Table.from_pandas(df1)\n",
    "# df2 = pa.Table.from_pandas(df2)"
   ]
  },
  {
   "cell_type": "code",
   "execution_count": null,
   "metadata": {},
   "outputs": [
    {
     "ename": "",
     "evalue": "",
     "output_type": "error",
     "traceback": [
      "\u001b[1;31mThe kernel failed to start due to the missing module 'typing_extensions'. Consider installing this module.\n",
      "Click <a href='https://aka.ms/kernelFailuresMissingModule'>here</a> for more info."
     ]
    }
   ],
   "source": [
    "import cv2"
   ]
  }
 ],
 "metadata": {
  "kernelspec": {
   "display_name": "Python 3.8.10 64-bit",
   "language": "python",
   "name": "python3"
  },
  "language_info": {
   "codemirror_mode": {
    "name": "ipython",
    "version": 3
   },
   "file_extension": ".py",
   "mimetype": "text/x-python",
   "name": "python",
   "nbconvert_exporter": "python",
   "pygments_lexer": "ipython3",
   "version": "3.8.10"
  },
  "orig_nbformat": 4,
  "vscode": {
   "interpreter": {
    "hash": "31f2aee4e71d21fbe5cf8b01ff0e069b9275f58929596ceb00d14d90e3e16cd6"
   }
  }
 },
 "nbformat": 4,
 "nbformat_minor": 2
}
