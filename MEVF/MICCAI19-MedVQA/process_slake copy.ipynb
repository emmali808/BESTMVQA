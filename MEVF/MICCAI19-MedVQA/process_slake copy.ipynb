{
 "cells": [
  {
   "cell_type": "code",
   "execution_count": 11,
   "metadata": {},
   "outputs": [],
   "source": [
    "import json\n",
    "import os\n",
    "# /home/coder/projects/Med-VQA/data_SLAKE/train_test/testset_en_zh.json\n",
    "# /home/coder/projects/Med-VQA/data_SLAKE/train_test/trainset_en_zh.json\n",
    "# /home/coder/projects/Med-VQA/data_SLAKE/train_test/validateset_en_zh.json\n",
    "paths = [\n",
    "        'testset', \n",
    "        'trainset', \n",
    "        'validateset'\n",
    "        ]\n",
    "\n",
    "\n",
    "for path in paths:\n",
    "    final_js = []\n",
    "    all_js = json.load(open(os.path.join('/home/coder/projects/Med-VQA/data_SLAKE/', path + '_en_zh.json')))\n",
    "    for js in all_js:\n",
    "        if js['q_lang'] == 'en':\n",
    "            final_js.append(js)\n",
    "\n",
    "    json.dump(final_js, open(os.path.join('/home/coder/projects/Med-VQA/data_SLAKE/', path + '.json'), 'w', encoding=\"utf-8\"))\n"
   ]
  },
  {
   "cell_type": "code",
   "execution_count": 3,
   "metadata": {},
   "outputs": [],
   "source": [
    "import json\n",
    "import os\n",
    "\n",
    "paths = [\n",
    "        'testset', \n",
    "        'trainset', \n",
    "        'valset'\n",
    "        ]\n",
    "\n",
    "index = 0\n",
    "for path in paths:\n",
    "    all_js = json.load(open(os.path.join('/home/coder/projects/MEVF/MICCAI19-MedVQA/data_Med/VQA-Med-2019', path + '_add_path.json')))\n",
    "    for js in all_js:\n",
    "        js[\"qid\"] = index\n",
    "        index += 1\n",
    "\n",
    "    json.dump(all_js, open(os.path.join('/home/coder/projects/MEVF/MICCAI19-MedVQA/data_Med/VQA-Med-2019', path + '.json'), 'w', encoding=\"utf-8\"))\n"
   ]
  },
  {
   "cell_type": "code",
   "execution_count": null,
   "metadata": {},
   "outputs": [],
   "source": [
    "# 添加close 和open标签\n",
    "\n",
    "import json\n",
    "import os\n",
    "\n",
    "paths = [\n",
    "        'testset', \n",
    "        'trainset', \n",
    "        'valset'\n",
    "        ]\n",
    "\n",
    "for path in paths:\n",
    "    all_js = json.load(open(os.path.join('/home/coder/projects/MEVF/MICCAI19-MedVQA/data_Med/VQA-Med-2019', path + '_add_path.json')))\n",
    "    for js in all_js:\n",
    "        if js['category'] == \"binary\":\n",
    "            js['answer_type'] = \"CLOSED\"\n",
    "        else:\n",
    "            js['answer_type'] = \"OPEN\"\n",
    " \n",
    "    json.dump(all_js, open(os.path.join('/home/coder/projects/MEVF/MICCAI19-MedVQA/data_Med/VQA-Med-2019', path + '.json'), 'w', encoding=\"utf-8\"))\n"
   ]
  }
 ],
 "metadata": {
  "kernelspec": {
   "display_name": "Python 3.9.12 ('base')",
   "language": "python",
   "name": "python3"
  },
  "language_info": {
   "codemirror_mode": {
    "name": "ipython",
    "version": 3
   },
   "file_extension": ".py",
   "mimetype": "text/x-python",
   "name": "python",
   "nbconvert_exporter": "python",
   "pygments_lexer": "ipython3",
   "version": "3.9.12"
  },
  "orig_nbformat": 4,
  "vscode": {
   "interpreter": {
    "hash": "e5cd6345f2f4575e712f4af2b639b80306d698b0fb4af248ce4f8a4e061c833b"
   }
  }
 },
 "nbformat": 4,
 "nbformat_minor": 2
}
