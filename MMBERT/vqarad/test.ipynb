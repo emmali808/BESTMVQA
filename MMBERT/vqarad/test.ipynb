{
 "cells": [
  {
   "cell_type": "code",
   "execution_count": 9,
   "metadata": {},
   "outputs": [
    {
     "name": "stdout",
     "output_type": "stream",
     "text": [
      "L\n",
      "(3, 224, 224)\n"
     ]
    }
   ],
   "source": [
    "from PIL import Image\n",
    "from torchvision import transforms\n",
    "import numpy as np\n",
    "\n",
    "train_tfm = transforms.Compose([transforms.Resize((224, 224)),\n",
    "                                transforms.RandomResizedCrop(224,scale=(0.5,1.0),ratio=(0.75,1.333)),\n",
    "                                transforms.RandomRotation(10),\n",
    "                                # Cutout(),\n",
    "                                transforms.ColorJitter(brightness=0.4,contrast=0.4,saturation=0.4,hue=0.4),\n",
    "                                transforms.ToTensor(), \n",
    "                                transforms.Normalize((0.5, 0.5, 0.5), (0.5, 0.5, 0.5))])\n",
    "img = Image.open('/home/coder/projects/Med-VQA/data_PATH/images/train_1769.jpg')\n",
    "print(img.mode)\n",
    "if img.mode == 'L':\n",
    "    img = img.convert('RGB')\n",
    "    img = img.convert('RGB')\n",
    "\n",
    "img = train_tfm(img)\n",
    "print(np.array(img).shape)"
   ]
  }
 ],
 "metadata": {
  "kernelspec": {
   "display_name": "Python 3.8.0 ('mmbert')",
   "language": "python",
   "name": "python3"
  },
  "language_info": {
   "codemirror_mode": {
    "name": "ipython",
    "version": 3
   },
   "file_extension": ".py",
   "mimetype": "text/x-python",
   "name": "python",
   "nbconvert_exporter": "python",
   "pygments_lexer": "ipython3",
   "version": "3.8.0"
  },
  "orig_nbformat": 4,
  "vscode": {
   "interpreter": {
    "hash": "0d482a1bf6d7fe2ffff62ba0108219233e6d040b3eba4b0dd8406aedad7490b8"
   }
  }
 },
 "nbformat": 4,
 "nbformat_minor": 2
}
